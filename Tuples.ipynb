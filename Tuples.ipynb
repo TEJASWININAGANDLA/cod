{
  "cells": [
    {
      "cell_type": "markdown",
      "metadata": {
        "id": "view-in-github",
        "colab_type": "text"
      },
      "source": [
        "<a href=\"https://colab.research.google.com/github/TEJASWININAGANDLA/cod/blob/main/Tuples.ipynb\" target=\"_parent\"><img src=\"https://colab.research.google.com/assets/colab-badge.svg\" alt=\"Open In Colab\"/></a>"
      ]
    },
    {
      "cell_type": "code",
      "execution_count": null,
      "id": "51f59874-b20b-4a7c-b83e-4b626ed0e7eb",
      "metadata": {
        "id": "51f59874-b20b-4a7c-b83e-4b626ed0e7eb"
      },
      "outputs": [],
      "source": [
        "\n",
        "1. Tuple Creation:\n",
        "   Create a tuple named 'my_tuple' containing elements (1, 2, 3, 4, 5).\n",
        "\n",
        "   Output:\n",
        "   (1, 2, 3, 4, 5)"
      ]
    },
    {
      "cell_type": "code",
      "execution_count": 2,
      "id": "9fb10957-29bc-40a8-808a-1e03314d0497",
      "metadata": {
        "colab": {
          "base_uri": "https://localhost:8080/"
        },
        "id": "9fb10957-29bc-40a8-808a-1e03314d0497",
        "outputId": "19610deb-a370-4c47-bbdd-d47fae1e3c16"
      },
      "outputs": [
        {
          "output_type": "stream",
          "name": "stdout",
          "text": [
            "(1, 2, 3, 4, 5)\n"
          ]
        }
      ],
      "source": [
        "my_tuple=(1,2,3,4,5)\n",
        "print(my_tuple)"
      ]
    },
    {
      "cell_type": "code",
      "execution_count": null,
      "id": "5ea6b8c0-533d-4592-b7a5-9c0460a85f6b",
      "metadata": {
        "id": "5ea6b8c0-533d-4592-b7a5-9c0460a85f6b"
      },
      "outputs": [],
      "source": [
        "2. Tuple Access:\n",
        "   Access the third element of the tuple 'my_tuple' and print it.\n",
        "\n",
        "   Output:\n",
        "   3\n"
      ]
    },
    {
      "cell_type": "code",
      "execution_count": 3,
      "id": "b89e169f-a0b8-46a9-9e1f-066bc8124668",
      "metadata": {
        "colab": {
          "base_uri": "https://localhost:8080/"
        },
        "id": "b89e169f-a0b8-46a9-9e1f-066bc8124668",
        "outputId": "44912b29-114c-4e59-987f-265079c00044"
      },
      "outputs": [
        {
          "output_type": "execute_result",
          "data": {
            "text/plain": [
              "3"
            ]
          },
          "metadata": {},
          "execution_count": 3
        }
      ],
      "source": [
        "my_tuple[2]"
      ]
    },
    {
      "cell_type": "code",
      "execution_count": null,
      "id": "a8ebbce3-6d68-4bc3-a51e-9a14b63f4cff",
      "metadata": {
        "id": "a8ebbce3-6d68-4bc3-a51e-9a14b63f4cff"
      },
      "outputs": [],
      "source": [
        "3. Tuple Slicing:\n",
        "   Print the elements from index 1 to index 3 (inclusive) of the tuple 'my_tuple'.\n",
        "\n",
        "   Output:\n",
        "   (2, 3, 4)"
      ]
    },
    {
      "cell_type": "code",
      "execution_count": 5,
      "id": "0d2d6f35-c865-46b7-a378-5736228896f3",
      "metadata": {
        "colab": {
          "base_uri": "https://localhost:8080/"
        },
        "id": "0d2d6f35-c865-46b7-a378-5736228896f3",
        "outputId": "fb6e720a-a950-4baf-da62-fc756036b52f"
      },
      "outputs": [
        {
          "output_type": "execute_result",
          "data": {
            "text/plain": [
              "(2, 3, 4)"
            ]
          },
          "metadata": {},
          "execution_count": 5
        }
      ],
      "source": [
        "my_tuple[1:4]"
      ]
    },
    {
      "cell_type": "code",
      "execution_count": null,
      "id": "0325d370-d960-4b88-8a50-897422bbd299",
      "metadata": {
        "id": "0325d370-d960-4b88-8a50-897422bbd299"
      },
      "outputs": [],
      "source": [
        "4. Tuple Concatenation:\n",
        "   Create another tuple named 'another_tuple' containing elements (6, 7, 8) and concatenate it with 'my_tuple'.\n",
        "\n",
        "   Output:\n",
        "   (1, 2, 3, 4, 5, 6, 7, 8)"
      ]
    },
    {
      "cell_type": "code",
      "execution_count": 7,
      "id": "c74f4187-9309-4800-8e94-3b83d987d093",
      "metadata": {
        "colab": {
          "base_uri": "https://localhost:8080/"
        },
        "id": "c74f4187-9309-4800-8e94-3b83d987d093",
        "outputId": "5b3be9cf-19d4-4e9f-c538-850cf8aec29f"
      },
      "outputs": [
        {
          "output_type": "stream",
          "name": "stdout",
          "text": [
            "(1, 2, 3, 4, 5, 6, 7, 8)\n"
          ]
        }
      ],
      "source": [
        "another_tuple=(6,7,8)\n",
        "print(my_tuple + another_tuple)\n"
      ]
    },
    {
      "cell_type": "code",
      "execution_count": null,
      "id": "fe28bc42-7386-4ee3-b36c-3f2027766793",
      "metadata": {
        "id": "fe28bc42-7386-4ee3-b36c-3f2027766793"
      },
      "outputs": [],
      "source": [
        "5. Tuple Repetition:\n",
        "   Repeat the tuple 'my_tuple' three times and print the result.\n",
        "\n",
        "   Output:\n",
        "   (1, 2, 3, 4, 5, 1, 2, 3, 4, 5, 1, 2, 3, 4, 5)"
      ]
    },
    {
      "cell_type": "code",
      "execution_count": 8,
      "id": "24fb6ff1-5be2-43e6-a888-58a6cc593e73",
      "metadata": {
        "colab": {
          "base_uri": "https://localhost:8080/"
        },
        "id": "24fb6ff1-5be2-43e6-a888-58a6cc593e73",
        "outputId": "4cfad7d7-23f3-45bb-f78a-52c94d43460a"
      },
      "outputs": [
        {
          "output_type": "stream",
          "name": "stdout",
          "text": [
            "(1, 2, 3, 4, 5, 1, 2, 3, 4, 5, 1, 2, 3, 4, 5)\n"
          ]
        }
      ],
      "source": [
        "print(my_tuple*3)"
      ]
    },
    {
      "cell_type": "code",
      "execution_count": null,
      "id": "8f610174-c41c-4fd3-ab7d-4dfd449d471d",
      "metadata": {
        "id": "8f610174-c41c-4fd3-ab7d-4dfd449d471d"
      },
      "outputs": [],
      "source": [
        "6. Tuple Unpacking:\n",
        "   Unpack the tuple ('apple', 'banana', 'cherry') into three variables: fruit1, fruit2, and fruit3. Print these variables.\n",
        "\n",
        "   Output:\n",
        "   fruit1 = 'apple'\n",
        "   fruit2 = 'banana'\n",
        "   fruit3 = 'cherry'"
      ]
    },
    {
      "cell_type": "code",
      "execution_count": 11,
      "id": "9293cfa7-dcab-466a-93ee-d06f2a66b18a",
      "metadata": {
        "colab": {
          "base_uri": "https://localhost:8080/"
        },
        "id": "9293cfa7-dcab-466a-93ee-d06f2a66b18a",
        "outputId": "6b3a8c5d-2156-4412-c7ca-26afa918c160"
      },
      "outputs": [
        {
          "output_type": "stream",
          "name": "stdout",
          "text": [
            "fruit1 =  apple\n",
            "fruit2 =  banana\n",
            "fruit3 =  cherry\n"
          ]
        }
      ],
      "source": [
        "fruits = (\"apple\", \"banana\", \"cherry\")\n",
        "(fruit1, fruit2, fruit3) = fruits\n",
        "\n",
        "print(\"fruit1 = \",fruit1)\n",
        "print(\"fruit2 = \",fruit2)\n",
        "print(\"fruit3 = \",fruit3)\n"
      ]
    },
    {
      "cell_type": "code",
      "execution_count": null,
      "id": "287d3dcd-5f94-4bb7-a1fc-588d341ed0f6",
      "metadata": {
        "id": "287d3dcd-5f94-4bb7-a1fc-588d341ed0f6"
      },
      "outputs": [],
      "source": [
        "7. Tuple Membership:\n",
        "   Check if the element 3 is present in the tuple 'my_tuple' and print True or False accordingly.\n",
        "\n",
        "   Output:\n",
        "   True"
      ]
    },
    {
      "cell_type": "code",
      "execution_count": 15,
      "id": "31ac47e8-9077-4efe-bad1-b1ab38f72b31",
      "metadata": {
        "colab": {
          "base_uri": "https://localhost:8080/"
        },
        "id": "31ac47e8-9077-4efe-bad1-b1ab38f72b31",
        "outputId": "4b45accd-ce16-488c-a7e9-dbf698b1bce4"
      },
      "outputs": [
        {
          "output_type": "stream",
          "name": "stdout",
          "text": [
            "True\n"
          ]
        }
      ],
      "source": [
        "print(3 in my_tuple)"
      ]
    },
    {
      "cell_type": "code",
      "execution_count": null,
      "id": "dba23bd5-c25b-48c9-8dbe-b275b37b681f",
      "metadata": {
        "id": "dba23bd5-c25b-48c9-8dbe-b275b37b681f"
      },
      "outputs": [],
      "source": [
        "8. Tuple Length:\n",
        "   Print the length of the tuple 'my_tuple'.\n",
        "\n",
        "   Output:\n",
        "   5"
      ]
    },
    {
      "cell_type": "code",
      "execution_count": 16,
      "id": "254b29ad-4614-4b75-bf6c-850c6a7939a9",
      "metadata": {
        "colab": {
          "base_uri": "https://localhost:8080/"
        },
        "id": "254b29ad-4614-4b75-bf6c-850c6a7939a9",
        "outputId": "490a4e39-e6a4-454a-cad2-3bc832656c61"
      },
      "outputs": [
        {
          "output_type": "stream",
          "name": "stdout",
          "text": [
            "5\n"
          ]
        }
      ],
      "source": [
        "print(len(my_tuple))"
      ]
    },
    {
      "cell_type": "code",
      "execution_count": null,
      "id": "7e01f233-f2d5-42b3-b7ef-b41586cebe81",
      "metadata": {
        "id": "7e01f233-f2d5-42b3-b7ef-b41586cebe81"
      },
      "outputs": [],
      "source": [
        "\n",
        "9. Tuple Min and Max:\n",
        "   Find the minimum and maximum elements in the tuple 'my_tuple' and print them.\n",
        "\n",
        "   Output:\n",
        "   Minimum: 1\n",
        "   Maximum: 5"
      ]
    },
    {
      "cell_type": "code",
      "execution_count": 22,
      "id": "7e15b6b8-ce12-4ced-bf0f-8619e3fdccb5",
      "metadata": {
        "colab": {
          "base_uri": "https://localhost:8080/"
        },
        "id": "7e15b6b8-ce12-4ced-bf0f-8619e3fdccb5",
        "outputId": "e2755e33-15bc-4f8c-af74-1166ca3ce2cc"
      },
      "outputs": [
        {
          "output_type": "stream",
          "name": "stdout",
          "text": [
            "minimum = 1\n",
            "maximum = 5\n"
          ]
        }
      ],
      "source": [
        "print(\"minimum =\",min(my_tuple))\n",
        "print(\"maximum =\",max(my_tuple))"
      ]
    },
    {
      "cell_type": "code",
      "execution_count": null,
      "id": "7bd4dbbc-2bff-4a15-bc6f-58d94e98ae29",
      "metadata": {
        "id": "7bd4dbbc-2bff-4a15-bc6f-58d94e98ae29"
      },
      "outputs": [],
      "source": [
        "10. Tuple Conversion:\n",
        "    Convert the tuple 'my_tuple' to a list and print the result.\n",
        "\n",
        "    Output:\n",
        "    [1, 2, 3, 4, 5]"
      ]
    },
    {
      "cell_type": "code",
      "source": [
        "my_tuple= (1,2,3,4,5)"
      ],
      "metadata": {
        "id": "MxPa9XXF-RVw"
      },
      "id": "MxPa9XXF-RVw",
      "execution_count": 29,
      "outputs": []
    },
    {
      "cell_type": "code",
      "source": [
        "list(my_tuple)"
      ],
      "metadata": {
        "colab": {
          "base_uri": "https://localhost:8080/"
        },
        "id": "T9WX7rDO-4uM",
        "outputId": "16133ac8-a734-4ddb-8e19-b508222ef3b4"
      },
      "id": "T9WX7rDO-4uM",
      "execution_count": 31,
      "outputs": [
        {
          "output_type": "execute_result",
          "data": {
            "text/plain": [
              "[1, 2, 3, 4, 5]"
            ]
          },
          "metadata": {},
          "execution_count": 31
        }
      ]
    },
    {
      "cell_type": "code",
      "source": [],
      "metadata": {
        "id": "8NUYzogN_NEx"
      },
      "id": "8NUYzogN_NEx",
      "execution_count": null,
      "outputs": []
    }
  ],
  "metadata": {
    "kernelspec": {
      "display_name": "Python 3 (ipykernel)",
      "language": "python",
      "name": "python3"
    },
    "language_info": {
      "codemirror_mode": {
        "name": "ipython",
        "version": 3
      },
      "file_extension": ".py",
      "mimetype": "text/x-python",
      "name": "python",
      "nbconvert_exporter": "python",
      "pygments_lexer": "ipython3",
      "version": "3.11.7"
    },
    "colab": {
      "provenance": [],
      "include_colab_link": true
    }
  },
  "nbformat": 4,
  "nbformat_minor": 5
}